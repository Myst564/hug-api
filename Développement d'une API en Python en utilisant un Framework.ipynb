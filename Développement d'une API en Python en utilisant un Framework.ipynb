{
 "cells": [
  {
   "attachments": {},
   "cell_type": "markdown",
   "metadata": {},
   "source": [
    "# Développement d'une API en Python en utilisant le Framework HUG"
   ]
  },
  {
   "attachments": {},
   "cell_type": "markdown",
   "metadata": {},
   "source": [
    "## Instalation de HUG"
   ]
  },
  {
   "cell_type": "code",
   "execution_count": 1,
   "metadata": {},
   "outputs": [],
   "source": [
    "# %pip install hug -U"
   ]
  },
  {
   "attachments": {},
   "cell_type": "markdown",
   "metadata": {},
   "source": [
    "# Création de l'API"
   ]
  },
  {
   "cell_type": "code",
   "execution_count": 2,
   "metadata": {},
   "outputs": [],
   "source": [
    "import hug, random\n",
    "api = hug.get(on_invalid=hug.redirect.not_found)\n",
    "\n",
    "\n",
    "@hug.get('/hello')\n",
    "def hello():\n",
    "    return 'Hello, world!'\n",
    "\n",
    "\n",
    "\n",
    "@hug.get('/var')\n",
    "def var():\n",
    "    return random.randint(0,100)\n",
    "\n",
    "# http://localhost:8000/var2?nb=10\n",
    "@api.urls('/var2', examples='nb=1')\n",
    "def generate_random_values(nb: hug.types.number):\n",
    "    values = [random.randint(-1000, 1000) for _ in range(nb)]\n",
    "    data = {\"values\": values}\n",
    "    return data\n",
    "\n",
    "\n",
    "# http://localhost/calc/add?number_1=10&number_2=20\n",
    "@api.urls('/calc/add', examples='number_1=1&number_2=2')\n",
    "def add(number_1: hug.types.number, number_2: hug.types.number):\n",
    "    return number_1 + number_2\n",
    "\n",
    "# http://localhost/calc/prod?number_1=10&number_2=20\n",
    "@api.urls('/calc/prod', examples='number_1=1&number_2=2')\n",
    "def prod(number_1: hug.types.number, number_2: hug.types.number):\n",
    "    return number_1 * number_2\n",
    "\n",
    "\n",
    "# lien vers les images => https://www.juleshaag.fr/devIA/devAPI\n",
    "# http://localhost:8000/img?num=1\n",
    "@api.urls('/img', examples='num=1')\n",
    "def img(num=hug.types.number):\n",
    "    return hug.redirect.to(f'https://www.juleshaag.fr/devIA/devAPI/{num}.png')\n",
    "\n",
    "\n",
    "@api.urls('/station_velo', examples='id=1')\n",
    "def img(id=hug.types.number):\n",
    "    return hug.redirect.to('https://www.juleshaag.fr/devIA/devAPI/station_information.json')\n"
   ]
  },
  {
   "attachments": {},
   "cell_type": "markdown",
   "metadata": {},
   "source": [
    "## Lancer l' API"
   ]
  },
  {
   "cell_type": "code",
   "execution_count": 3,
   "metadata": {},
   "outputs": [
    {
     "name": "stdout",
     "output_type": "stream",
     "text": [
      "\n",
      "/#######################################################################\\\n",
      "          `.----``..-------..``.----.\n",
      "         :/:::::--:---------:--::::://.\n",
      "        .+::::----##/-/oo+:-##----:::://\n",
      "        `//::-------/oosoo-------::://.       ##    ##  ##    ##    #####\n",
      "          .-:------./++o/o-.------::-`   ```  ##    ##  ##    ##  ##\n",
      "             `----.-./+o+:..----.     `.:///. ########  ##    ## ##\n",
      "   ```        `----.-::::::------  `.-:::://. ##    ##  ##    ## ##   ####\n",
      "  ://::--.``` -:``...-----...` `:--::::::-.`  ##    ##  ##   ##   ##    ##\n",
      "  :/:::::::::-:-     `````      .:::::-.`     ##    ##    ####     ######\n",
      "   ``.--:::::::.                .:::.`\n",
      "         ``..::.                .::         EMBRACE THE APIs OF THE FUTURE\n",
      "             ::-                .:-\n",
      "             -::`               ::-                   VERSION 2.6.1\n",
      "             `::-              -::`\n",
      "              -::-`           -::-\n",
      "\\########################################################################/\n",
      "\n",
      " Copyright (C) 2016 Timothy Edmund Crosley\n",
      " Under the MIT License\n",
      "\n",
      "\n",
      "Serving on :8000...\n"
     ]
    },
    {
     "name": "stderr",
     "output_type": "stream",
     "text": [
      "127.0.0.1 - - [25/Apr/2023 17:23:48] \"GET /img?num=1 HTTP/1.1\" 302 0\n",
      "127.0.0.1 - - [25/Apr/2023 17:24:05] \"GET /img?num=1 HTTP/1.1\" 302 0\n",
      "127.0.0.1 - - [25/Apr/2023 17:24:07] \"GET /img?num=1 HTTP/1.1\" 302 0\n",
      "127.0.0.1 - - [25/Apr/2023 17:24:14] \"GET /img?num=2 HTTP/1.1\" 302 0\n",
      "127.0.0.1 - - [25/Apr/2023 17:24:27] \"GET /img?num=3 HTTP/1.1\" 302 0\n"
     ]
    },
    {
     "ename": "KeyboardInterrupt",
     "evalue": "",
     "output_type": "error",
     "traceback": [
      "\u001b[1;31m---------------------------------------------------------------------------\u001b[0m",
      "\u001b[1;31mKeyboardInterrupt\u001b[0m                         Traceback (most recent call last)",
      "Cell \u001b[1;32mIn[3], line 2\u001b[0m\n\u001b[0;32m      1\u001b[0m \u001b[39mif\u001b[39;00m \u001b[39m__name__\u001b[39m \u001b[39m==\u001b[39m \u001b[39m'\u001b[39m\u001b[39m__main__\u001b[39m\u001b[39m'\u001b[39m:\n\u001b[1;32m----> 2\u001b[0m     hug\u001b[39m.\u001b[39;49mAPI(\u001b[39m__name__\u001b[39;49m)\u001b[39m.\u001b[39;49mhttp\u001b[39m.\u001b[39;49mserve()\n",
      "File \u001b[1;32mc:\\Users\\vuill\\anaconda3\\envs\\HUG\\Lib\\site-packages\\hug\\api.py:284\u001b[0m, in \u001b[0;36mHTTPInterfaceAPI.serve\u001b[1;34m(self, host, port, no_documentation, display_intro)\u001b[0m\n\u001b[0;32m    282\u001b[0m httpd \u001b[39m=\u001b[39m make_server(host, port, api)\n\u001b[0;32m    283\u001b[0m \u001b[39mprint\u001b[39m(\u001b[39m\"\u001b[39m\u001b[39mServing on \u001b[39m\u001b[39m{0}\u001b[39;00m\u001b[39m:\u001b[39m\u001b[39m{1}\u001b[39;00m\u001b[39m...\u001b[39m\u001b[39m\"\u001b[39m\u001b[39m.\u001b[39mformat(host, port))\n\u001b[1;32m--> 284\u001b[0m httpd\u001b[39m.\u001b[39;49mserve_forever()\n",
      "File \u001b[1;32mc:\\Users\\vuill\\anaconda3\\envs\\HUG\\Lib\\socketserver.py:233\u001b[0m, in \u001b[0;36mBaseServer.serve_forever\u001b[1;34m(self, poll_interval)\u001b[0m\n\u001b[0;32m    230\u001b[0m selector\u001b[39m.\u001b[39mregister(\u001b[39mself\u001b[39m, selectors\u001b[39m.\u001b[39mEVENT_READ)\n\u001b[0;32m    232\u001b[0m \u001b[39mwhile\u001b[39;00m \u001b[39mnot\u001b[39;00m \u001b[39mself\u001b[39m\u001b[39m.\u001b[39m__shutdown_request:\n\u001b[1;32m--> 233\u001b[0m     ready \u001b[39m=\u001b[39m selector\u001b[39m.\u001b[39;49mselect(poll_interval)\n\u001b[0;32m    234\u001b[0m     \u001b[39m# bpo-35017: shutdown() called during select(), exit immediately.\u001b[39;00m\n\u001b[0;32m    235\u001b[0m     \u001b[39mif\u001b[39;00m \u001b[39mself\u001b[39m\u001b[39m.\u001b[39m__shutdown_request:\n",
      "File \u001b[1;32mc:\\Users\\vuill\\anaconda3\\envs\\HUG\\Lib\\selectors.py:323\u001b[0m, in \u001b[0;36mSelectSelector.select\u001b[1;34m(self, timeout)\u001b[0m\n\u001b[0;32m    321\u001b[0m ready \u001b[39m=\u001b[39m []\n\u001b[0;32m    322\u001b[0m \u001b[39mtry\u001b[39;00m:\n\u001b[1;32m--> 323\u001b[0m     r, w, _ \u001b[39m=\u001b[39m \u001b[39mself\u001b[39;49m\u001b[39m.\u001b[39;49m_select(\u001b[39mself\u001b[39;49m\u001b[39m.\u001b[39;49m_readers, \u001b[39mself\u001b[39;49m\u001b[39m.\u001b[39;49m_writers, [], timeout)\n\u001b[0;32m    324\u001b[0m \u001b[39mexcept\u001b[39;00m \u001b[39mInterruptedError\u001b[39;00m:\n\u001b[0;32m    325\u001b[0m     \u001b[39mreturn\u001b[39;00m ready\n",
      "File \u001b[1;32mc:\\Users\\vuill\\anaconda3\\envs\\HUG\\Lib\\selectors.py:314\u001b[0m, in \u001b[0;36mSelectSelector._select\u001b[1;34m(self, r, w, _, timeout)\u001b[0m\n\u001b[0;32m    313\u001b[0m \u001b[39mdef\u001b[39;00m \u001b[39m_select\u001b[39m(\u001b[39mself\u001b[39m, r, w, _, timeout\u001b[39m=\u001b[39m\u001b[39mNone\u001b[39;00m):\n\u001b[1;32m--> 314\u001b[0m     r, w, x \u001b[39m=\u001b[39m select\u001b[39m.\u001b[39mselect(r, w, w, timeout)\n\u001b[0;32m    315\u001b[0m     \u001b[39mreturn\u001b[39;00m r, w \u001b[39m+\u001b[39m x, []\n",
      "\u001b[1;31mKeyboardInterrupt\u001b[0m: "
     ]
    }
   ],
   "source": [
    "if __name__ == '__main__':\n",
    "    hug.API(__name__).http.serve()"
   ]
  }
 ],
 "metadata": {
  "kernelspec": {
   "display_name": "base",
   "language": "python",
   "name": "python3"
  },
  "language_info": {
   "codemirror_mode": {
    "name": "ipython",
    "version": 3
   },
   "file_extension": ".py",
   "mimetype": "text/x-python",
   "name": "python",
   "nbconvert_exporter": "python",
   "pygments_lexer": "ipython3",
   "version": "3.11.3"
  },
  "orig_nbformat": 4
 },
 "nbformat": 4,
 "nbformat_minor": 2
}
