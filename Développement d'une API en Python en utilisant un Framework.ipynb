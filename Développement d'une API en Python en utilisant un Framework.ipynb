{
 "cells": [
  {
   "attachments": {},
   "cell_type": "markdown",
   "metadata": {},
   "source": [
    "# Développement d'une API en Python en utilisant le Framework HUG"
   ]
  },
  {
   "attachments": {},
   "cell_type": "markdown",
   "metadata": {},
   "source": [
    "## Instalation de HUG"
   ]
  },
  {
   "cell_type": "code",
   "execution_count": 1,
   "metadata": {},
   "outputs": [],
   "source": [
    "# %pip install hug -U"
   ]
  },
  {
   "attachments": {},
   "cell_type": "markdown",
   "metadata": {},
   "source": [
    "# Création de l'API"
   ]
  },
  {
   "cell_type": "code",
   "execution_count": 2,
   "metadata": {},
   "outputs": [],
   "source": [
    "import hug\n",
    "import random\n",
    "import requests\n",
    "import json\n",
    "\n",
    "api = hug.get(on_invalid=hug.redirect.not_found)\n",
    "url_station = 'https://www.juleshaag.fr/devIA/devAPI/station_information.json'\n",
    "\n",
    "@hug.get('/hello')\n",
    "def hello():\n",
    "    return 'Hello, world!'\n",
    "\n",
    "@hug.get('/var')\n",
    "def var():\n",
    "    return random.randint(0, 100)\n",
    "\n",
    "@api.urls('/var2', examples='nb=1')\n",
    "def generate_random_values(nb: hug.types.number):\n",
    "    values = [random.randint(-1000, 1000) for _ in range(nb)]\n",
    "    data = {\"values\": values}\n",
    "    return data\n",
    "\n",
    "@api.urls('/calc/add', examples='number_1=1&number_2=2')\n",
    "def add(number_1: hug.types.number, number_2: hug.types.number):\n",
    "    return number_1 + number_2\n",
    "\n",
    "@api.urls('/calc/prod', examples='number_1=1&number_2=2')\n",
    "def prod(number_1: hug.types.number, number_2: hug.types.number):\n",
    "    return number_1 * number_2\n",
    "\n",
    "@api.urls('/img', examples='num=1')\n",
    "def img(num: hug.types.number):\n",
    "    return hug.redirect.to(f'https://www.juleshaag.fr/devIA/devAPI/{num}.png')\n",
    "\n",
    "@api.urls('/station_velo', examples='id=1')\n",
    "def station_velo(id: hug.types.number):\n",
    "    data=requests.get(url_station).json()\n",
    "    for content in data['data']['stations']:\n",
    "            if id == int(content['station_id']):\n",
    "                return content\n",
    "    return {\"error\": \"Station vélo non trouvée\"}"
   ]
  },
  {
   "cell_type": "code",
   "execution_count": 3,
   "metadata": {},
   "outputs": [],
   "source": [
    "@api.urls('/station_velo2', examples='id=30&addr')\n",
    "def station_velo(id: hug.types.number, addr: hug.types.text =''):\n",
    "    data = requests.get(url_station).json()\n",
    "    for content in data['data']['stations']:\n",
    "        if id == int(content['station_id']):\n",
    "            if addr == '':\n",
    "                return content\n",
    "            elif addr == 'address':\n",
    "                return content['address']\n",
    "            else:\n",
    "                return {\"error\": \"Mauvais paramètre pour 'addr', veuillez utiliser : 'address'\"}\n",
    "    return {\"error\": \"Station vélo non trouvée\"}\n"
   ]
  },
  {
   "attachments": {},
   "cell_type": "markdown",
   "metadata": {},
   "source": [
    "# Code Tim"
   ]
  },
  {
   "attachments": {},
   "cell_type": "markdown",
   "metadata": {},
   "source": [
    "## Lancer l' API"
   ]
  },
  {
   "cell_type": "code",
   "execution_count": 4,
   "metadata": {},
   "outputs": [
    {
     "name": "stdout",
     "output_type": "stream",
     "text": [
      "\n",
      "/#######################################################################\\\n",
      "          `.----``..-------..``.----.\n",
      "         :/:::::--:---------:--::::://.\n",
      "        .+::::----##/-/oo+:-##----:::://\n",
      "        `//::-------/oosoo-------::://.       ##    ##  ##    ##    #####\n",
      "          .-:------./++o/o-.------::-`   ```  ##    ##  ##    ##  ##\n",
      "             `----.-./+o+:..----.     `.:///. ########  ##    ## ##\n",
      "   ```        `----.-::::::------  `.-:::://. ##    ##  ##    ## ##   ####\n",
      "  ://::--.``` -:``...-----...` `:--::::::-.`  ##    ##  ##   ##   ##    ##\n",
      "  :/:::::::::-:-     `````      .:::::-.`     ##    ##    ####     ######\n",
      "   ``.--:::::::.                .:::.`\n",
      "         ``..::.                .::         EMBRACE THE APIs OF THE FUTURE\n",
      "             ::-                .:-\n",
      "             -::`               ::-                   VERSION 2.6.1\n",
      "             `::-              -::`\n",
      "              -::-`           -::-\n",
      "\\########################################################################/\n",
      "\n",
      " Copyright (C) 2016 Timothy Edmund Crosley\n",
      " Under the MIT License\n",
      "\n",
      "\n",
      "Serving on :8000...\n"
     ]
    },
    {
     "name": "stderr",
     "output_type": "stream",
     "text": [
      "127.0.0.1 - - [27/Apr/2023 13:54:46] \"GET /station_velo?id=30 HTTP/1.1\" 200 138\n",
      "127.0.0.1 - - [27/Apr/2023 13:54:48] \"GET /favicon.ico HTTP/1.1\" 404 4936\n",
      "127.0.0.1 - - [27/Apr/2023 13:54:55] \"GET /station_velo?id=30&addr HTTP/1.1\" 200 138\n",
      "127.0.0.1 - - [27/Apr/2023 13:55:00] \"GET /station_velo2?id=30&addr HTTP/1.1\" 404 4936\n",
      "127.0.0.1 - - [27/Apr/2023 13:55:10] \"GET /station_velo2?id=30&addr=%22address%22 HTTP/1.1\" 200 74\n",
      "127.0.0.1 - - [27/Apr/2023 13:55:18] \"GET /station_velo2?id=30&addr=address HTTP/1.1\" 200 23\n"
     ]
    }
   ],
   "source": [
    "if __name__ == '__main__':\n",
    "    hug.API(__name__).http.serve()"
   ]
  }
 ],
 "metadata": {
  "kernelspec": {
   "display_name": "base",
   "language": "python",
   "name": "python3"
  },
  "language_info": {
   "codemirror_mode": {
    "name": "ipython",
    "version": 3
   },
   "file_extension": ".py",
   "mimetype": "text/x-python",
   "name": "python",
   "nbconvert_exporter": "python",
   "pygments_lexer": "ipython3",
   "version": "3.11.3"
  },
  "orig_nbformat": 4
 },
 "nbformat": 4,
 "nbformat_minor": 2
}
