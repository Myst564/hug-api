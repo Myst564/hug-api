{
 "cells": [
  {
   "attachments": {},
   "cell_type": "markdown",
   "metadata": {},
   "source": [
    "# Développement d'une API en Python en utilisant le Framework HUG"
   ]
  },
  {
   "attachments": {},
   "cell_type": "markdown",
   "metadata": {},
   "source": [
    "## Instalation de HUG"
   ]
  },
  {
   "cell_type": "code",
   "execution_count": null,
   "metadata": {},
   "outputs": [],
   "source": [
    "# %pip install hug -U"
   ]
  },
  {
   "attachments": {},
   "cell_type": "markdown",
   "metadata": {},
   "source": [
    "# Création de l'API"
   ]
  },
  {
   "cell_type": "code",
   "execution_count": null,
   "metadata": {},
   "outputs": [],
   "source": [
    "import hug\n",
    "import random\n",
    "import requests\n",
    "import json\n",
    "\n",
    "api = hug.get(on_invalid=hug.redirect.not_found)\n",
    "\n",
    "@hug.get('/hello')\n",
    "def hello():\n",
    "    return 'Hello, world!'\n",
    "\n",
    "@hug.get('/var')\n",
    "def var():\n",
    "    return random.randint(0, 100)\n",
    "\n",
    "@api.urls('/var2', examples='nb=1')\n",
    "def generate_random_values(nb: hug.types.number):\n",
    "    values = [random.randint(-1000, 1000) for _ in range(nb)]\n",
    "    data = {\"values\": values}\n",
    "    return data\n",
    "\n",
    "@api.urls('/calc/add', examples='number_1=1&number_2=2')\n",
    "def add(number_1: hug.types.number, number_2: hug.types.number):\n",
    "    return number_1 + number_2\n",
    "\n",
    "@api.urls('/calc/prod', examples='number_1=1&number_2=2')\n",
    "def prod(number_1: hug.types.number, number_2: hug.types.number):\n",
    "    return number_1 * number_2\n",
    "\n",
    "@api.urls('/img', examples='num=1')\n",
    "def img(num: hug.types.number):\n",
    "    return hug.redirect.to(f'https://www.juleshaag.fr/devIA/devAPI/{num}.png')\n",
    "\n",
    "@api.urls('/station_velo', examples='id=1')\n",
    "def station_velo(id: hug.types.number):\n",
    "    url = 'https://www.juleshaag.fr/devIA/devAPI/station_information.json'\n",
    "    response = requests.get(url)\n",
    "    data = response.json()\n",
    "    for content_liste in data['data']['stations'] :\n",
    "        if id == content_liste['station_id']:\n",
    "            return content_liste\n"
   ]
  },
  {
   "attachments": {},
   "cell_type": "markdown",
   "metadata": {},
   "source": [
    "# Code Tim"
   ]
  },
  {
   "cell_type": "code",
   "execution_count": null,
   "metadata": {},
   "outputs": [],
   "source": [
    "@hug.get(\"/stations_velo5/toutes/cap\",output=hug.output_format.json)\n",
    "\n",
    "def root(cap : hug.types.text = ''):\n",
    "\n",
    "    get = requests.get(f'https://www.juleshaag.fr/devIA/devAPI/station_information.json',stream=True)\n",
    "    decoded_data = get.content.decode('utf-8')\n",
    "    json_data = json.loads(decoded_data)\n",
    "    stations = json_data['data']['stations']\n",
    "    js ={}\n",
    "    temp=0\n",
    "    for item in stations:\n",
    "        if cap == '' :\n",
    "            js[f\"station_id {item['station_id']}\"]=item['capacity']\n",
    "            temp+=item['capacity']\n",
    "    js['total_capacity']=temp\n",
    "    return js"
   ]
  },
  {
   "cell_type": "code",
   "execution_count": null,
   "metadata": {},
   "outputs": [],
   "source": [
    "@hug.get(\"/stations_velo5/{id}/cap\",output=hug.output_format.text)\n",
    "\n",
    "def root(id: hug.types.number, cap : hug.types.text = ''):\n",
    "\n",
    "    get = requests.get(f'https://www.juleshaag.fr/devIA/devAPI/station_information.json',stream=True)\n",
    "    decoded_data = get.content.decode('utf-8')\n",
    "    json_data = json.loads(decoded_data)\n",
    "    stations = json_data['data']['stations']\n",
    "    for item in stations:\n",
    "        if item['station_id']==f\"{id}\":\n",
    "\n",
    "            if cap == '' :\n",
    "\n",
    "                return int(item['capacity'])"
   ]
  },
  {
   "cell_type": "code",
   "execution_count": null,
   "metadata": {},
   "outputs": [],
   "source": [
    "# #http://localhost:8000/stations_velo4/id/addr\"\n",
    "\n",
    "@hug.get(\"/stations_velo5/{id}/addr\",output=hug.output_format.text)\n",
    "\n",
    "def root(id: hug.types.number, addr : hug.types.text = ''):\n",
    "\n",
    "    get = requests.get(f'https://www.juleshaag.fr/devIA/devAPI/station_information.json',stream=True)\n",
    "\n",
    "    decoded_data = get.content.decode('utf-8')\n",
    "\n",
    "    json_data = json.loads(decoded_data)\n",
    "\n",
    "    stations = json_data['data']['stations']\n",
    "\n",
    "    for item in stations:\n",
    "\n",
    "        if item['station_id']==f\"{id}\":\n",
    "\n",
    "            if addr == '' :\n",
    "\n",
    "                return item['address']"
   ]
  },
  {
   "cell_type": "code",
   "execution_count": null,
   "metadata": {},
   "outputs": [],
   "source": [
    "url = 'https://www.juleshaag.fr/devIA/devAPI/station_information.json'\n",
    "response = requests.get(url)\n",
    "# json.loads(response.content)"
   ]
  },
  {
   "attachments": {},
   "cell_type": "markdown",
   "metadata": {},
   "source": [
    "## Lancer l' API"
   ]
  },
  {
   "cell_type": "code",
   "execution_count": null,
   "metadata": {},
   "outputs": [],
   "source": [
    "if __name__ == '__main__':\n",
    "    hug.API(__name__).http.serve()"
   ]
  },
  {
   "cell_type": "code",
   "execution_count": 1,
   "metadata": {},
   "outputs": [
    {
     "name": "stdout",
     "output_type": "stream",
     "text": [
      "Note: you may need to restart the kernel to use updated packages.\n"
     ]
    }
   ],
   "source": [
    "%pip freeze > requirement.txt"
   ]
  }
 ],
 "metadata": {
  "kernelspec": {
   "display_name": "base",
   "language": "python",
   "name": "python3"
  },
  "language_info": {
   "codemirror_mode": {
    "name": "ipython",
    "version": 3
   },
   "file_extension": ".py",
   "mimetype": "text/x-python",
   "name": "python",
   "nbconvert_exporter": "python",
   "pygments_lexer": "ipython3",
   "version": "3.11.3"
  },
  "orig_nbformat": 4
 },
 "nbformat": 4,
 "nbformat_minor": 2
}
